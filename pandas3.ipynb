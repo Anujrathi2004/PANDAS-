{
 "cells": [
  {
   "cell_type": "code",
   "execution_count": 4,
   "id": "2387a784-b6a5-4ef1-bb23-5943ed6cd890",
   "metadata": {},
   "outputs": [],
   "source": [
    "import pandas as pd\n",
    "import numpy as np\n",
    "import matplotlib.pyplot as plt\n",
    "import seaborn as sns"
   ]
  },
  {
   "cell_type": "code",
   "execution_count": 6,
   "id": "99e201ff-2a46-42a7-9c36-2b31220d7af6",
   "metadata": {},
   "outputs": [],
   "source": [
    "bronze=pd.read_csv('bronze_top5.csv')\n",
    "silver=pd.read_csv('silver_top5.csv')"
   ]
  },
  {
   "cell_type": "code",
   "execution_count": 7,
   "id": "3a3e52ff-40dd-4444-8c38-7bd54d12b73d",
   "metadata": {},
   "outputs": [],
   "source": [
    "bronze['NOC']=['USA','SOV','UKD','FRA','GER']"
   ]
  },
  {
   "cell_type": "code",
   "execution_count": 8,
   "id": "1286a129-e8a0-4a60-8b1a-d07582f66532",
   "metadata": {},
   "outputs": [
    {
     "data": {
      "text/html": [
       "<div>\n",
       "<style scoped>\n",
       "    .dataframe tbody tr th:only-of-type {\n",
       "        vertical-align: middle;\n",
       "    }\n",
       "\n",
       "    .dataframe tbody tr th {\n",
       "        vertical-align: top;\n",
       "    }\n",
       "\n",
       "    .dataframe thead th {\n",
       "        text-align: right;\n",
       "    }\n",
       "</style>\n",
       "<table border=\"1\" class=\"dataframe\">\n",
       "  <thead>\n",
       "    <tr style=\"text-align: right;\">\n",
       "      <th></th>\n",
       "      <th>NOC</th>\n",
       "      <th>Country</th>\n",
       "      <th>Total</th>\n",
       "    </tr>\n",
       "  </thead>\n",
       "  <tbody>\n",
       "    <tr>\n",
       "      <th>0</th>\n",
       "      <td>USA</td>\n",
       "      <td>United States</td>\n",
       "      <td>1052.0</td>\n",
       "    </tr>\n",
       "    <tr>\n",
       "      <th>1</th>\n",
       "      <td>SOV</td>\n",
       "      <td>Soviet Union</td>\n",
       "      <td>584.0</td>\n",
       "    </tr>\n",
       "    <tr>\n",
       "      <th>2</th>\n",
       "      <td>UKD</td>\n",
       "      <td>United Kingdom</td>\n",
       "      <td>505.0</td>\n",
       "    </tr>\n",
       "    <tr>\n",
       "      <th>3</th>\n",
       "      <td>FRA</td>\n",
       "      <td>France</td>\n",
       "      <td>475.0</td>\n",
       "    </tr>\n",
       "    <tr>\n",
       "      <th>4</th>\n",
       "      <td>GER</td>\n",
       "      <td>Germany</td>\n",
       "      <td>454.0</td>\n",
       "    </tr>\n",
       "  </tbody>\n",
       "</table>\n",
       "</div>"
      ],
      "text/plain": [
       "   NOC         Country   Total\n",
       "0  USA   United States  1052.0\n",
       "1  SOV    Soviet Union   584.0\n",
       "2  UKD  United Kingdom   505.0\n",
       "3  FRA          France   475.0\n",
       "4  GER         Germany   454.0"
      ]
     },
     "execution_count": 8,
     "metadata": {},
     "output_type": "execute_result"
    }
   ],
   "source": [
    "bronze_cols=['NOC', 'Country','Total']\n",
    "bronze=bronze[bronze_cols]\n",
    "bronze"
   ]
  },
  {
   "cell_type": "code",
   "execution_count": 9,
   "id": "a1653fe7-d56d-4fa1-831c-cdf23cf9df04",
   "metadata": {},
   "outputs": [],
   "source": [
    "silver['NOC']=['USA','SOV','UKD','FRA','ITY']"
   ]
  },
  {
   "cell_type": "code",
   "execution_count": 10,
   "id": "aae0ffd5-f73c-48d3-829e-c9ee563e2f54",
   "metadata": {},
   "outputs": [
    {
     "data": {
      "text/html": [
       "<div>\n",
       "<style scoped>\n",
       "    .dataframe tbody tr th:only-of-type {\n",
       "        vertical-align: middle;\n",
       "    }\n",
       "\n",
       "    .dataframe tbody tr th {\n",
       "        vertical-align: top;\n",
       "    }\n",
       "\n",
       "    .dataframe thead th {\n",
       "        text-align: right;\n",
       "    }\n",
       "</style>\n",
       "<table border=\"1\" class=\"dataframe\">\n",
       "  <thead>\n",
       "    <tr style=\"text-align: right;\">\n",
       "      <th></th>\n",
       "      <th>NOC</th>\n",
       "      <th>Country</th>\n",
       "      <th>Total</th>\n",
       "    </tr>\n",
       "  </thead>\n",
       "  <tbody>\n",
       "    <tr>\n",
       "      <th>0</th>\n",
       "      <td>USA</td>\n",
       "      <td>United States</td>\n",
       "      <td>1195.0</td>\n",
       "    </tr>\n",
       "    <tr>\n",
       "      <th>1</th>\n",
       "      <td>SOV</td>\n",
       "      <td>Soviet Union</td>\n",
       "      <td>627.0</td>\n",
       "    </tr>\n",
       "    <tr>\n",
       "      <th>2</th>\n",
       "      <td>UKD</td>\n",
       "      <td>United Kingdom</td>\n",
       "      <td>591.0</td>\n",
       "    </tr>\n",
       "    <tr>\n",
       "      <th>3</th>\n",
       "      <td>FRA</td>\n",
       "      <td>France</td>\n",
       "      <td>461.0</td>\n",
       "    </tr>\n",
       "    <tr>\n",
       "      <th>4</th>\n",
       "      <td>ITY</td>\n",
       "      <td>Italy</td>\n",
       "      <td>394.0</td>\n",
       "    </tr>\n",
       "  </tbody>\n",
       "</table>\n",
       "</div>"
      ],
      "text/plain": [
       "   NOC         Country   Total\n",
       "0  USA   United States  1195.0\n",
       "1  SOV    Soviet Union   627.0\n",
       "2  UKD  United Kingdom   591.0\n",
       "3  FRA          France   461.0\n",
       "4  ITY           Italy   394.0"
      ]
     },
     "execution_count": 10,
     "metadata": {},
     "output_type": "execute_result"
    }
   ],
   "source": [
    "silver_cols=['NOC', 'Country','Total']\n",
    "silver=silver[silver_cols]\n",
    "silver"
   ]
  },
  {
   "cell_type": "code",
   "execution_count": 11,
   "id": "0fd08759-21e8-4983-b527-91e160be717d",
   "metadata": {},
   "outputs": [
    {
     "data": {
      "text/html": [
       "<div>\n",
       "<style scoped>\n",
       "    .dataframe tbody tr th:only-of-type {\n",
       "        vertical-align: middle;\n",
       "    }\n",
       "\n",
       "    .dataframe tbody tr th {\n",
       "        vertical-align: top;\n",
       "    }\n",
       "\n",
       "    .dataframe thead th {\n",
       "        text-align: right;\n",
       "    }\n",
       "</style>\n",
       "<table border=\"1\" class=\"dataframe\">\n",
       "  <thead>\n",
       "    <tr style=\"text-align: right;\">\n",
       "      <th></th>\n",
       "      <th>NOC</th>\n",
       "      <th>Country</th>\n",
       "      <th>Total</th>\n",
       "    </tr>\n",
       "  </thead>\n",
       "  <tbody>\n",
       "  </tbody>\n",
       "</table>\n",
       "</div>"
      ],
      "text/plain": [
       "Empty DataFrame\n",
       "Columns: [NOC, Country, Total]\n",
       "Index: []"
      ]
     },
     "execution_count": 11,
     "metadata": {},
     "output_type": "execute_result"
    }
   ],
   "source": [
    "pd.merge(bronze, silver)"
   ]
  },
  {
   "cell_type": "code",
   "execution_count": 12,
   "id": "240bcfe4-93c9-4cae-9e76-337d76621b51",
   "metadata": {},
   "outputs": [
    {
     "data": {
      "text/html": [
       "<div>\n",
       "<style scoped>\n",
       "    .dataframe tbody tr th:only-of-type {\n",
       "        vertical-align: middle;\n",
       "    }\n",
       "\n",
       "    .dataframe tbody tr th {\n",
       "        vertical-align: top;\n",
       "    }\n",
       "\n",
       "    .dataframe thead th {\n",
       "        text-align: right;\n",
       "    }\n",
       "</style>\n",
       "<table border=\"1\" class=\"dataframe\">\n",
       "  <thead>\n",
       "    <tr style=\"text-align: right;\">\n",
       "      <th></th>\n",
       "      <th>NOC</th>\n",
       "      <th>Country_x</th>\n",
       "      <th>Total_x</th>\n",
       "      <th>Country_y</th>\n",
       "      <th>Total_y</th>\n",
       "    </tr>\n",
       "  </thead>\n",
       "  <tbody>\n",
       "    <tr>\n",
       "      <th>0</th>\n",
       "      <td>USA</td>\n",
       "      <td>United States</td>\n",
       "      <td>1052.0</td>\n",
       "      <td>United States</td>\n",
       "      <td>1195.0</td>\n",
       "    </tr>\n",
       "    <tr>\n",
       "      <th>1</th>\n",
       "      <td>SOV</td>\n",
       "      <td>Soviet Union</td>\n",
       "      <td>584.0</td>\n",
       "      <td>Soviet Union</td>\n",
       "      <td>627.0</td>\n",
       "    </tr>\n",
       "    <tr>\n",
       "      <th>2</th>\n",
       "      <td>UKD</td>\n",
       "      <td>United Kingdom</td>\n",
       "      <td>505.0</td>\n",
       "      <td>United Kingdom</td>\n",
       "      <td>591.0</td>\n",
       "    </tr>\n",
       "    <tr>\n",
       "      <th>3</th>\n",
       "      <td>FRA</td>\n",
       "      <td>France</td>\n",
       "      <td>475.0</td>\n",
       "      <td>France</td>\n",
       "      <td>461.0</td>\n",
       "    </tr>\n",
       "  </tbody>\n",
       "</table>\n",
       "</div>"
      ],
      "text/plain": [
       "   NOC       Country_x  Total_x       Country_y  Total_y\n",
       "0  USA   United States   1052.0   United States   1195.0\n",
       "1  SOV    Soviet Union    584.0    Soviet Union    627.0\n",
       "2  UKD  United Kingdom    505.0  United Kingdom    591.0\n",
       "3  FRA          France    475.0          France    461.0"
      ]
     },
     "execution_count": 12,
     "metadata": {},
     "output_type": "execute_result"
    }
   ],
   "source": [
    "pd.merge(bronze, silver, on='NOC')"
   ]
  },
  {
   "cell_type": "code",
   "execution_count": 13,
   "id": "1abab0eb-27fd-40ee-ad5f-88c620e1b01a",
   "metadata": {},
   "outputs": [
    {
     "data": {
      "text/html": [
       "<div>\n",
       "<style scoped>\n",
       "    .dataframe tbody tr th:only-of-type {\n",
       "        vertical-align: middle;\n",
       "    }\n",
       "\n",
       "    .dataframe tbody tr th {\n",
       "        vertical-align: top;\n",
       "    }\n",
       "\n",
       "    .dataframe thead th {\n",
       "        text-align: right;\n",
       "    }\n",
       "</style>\n",
       "<table border=\"1\" class=\"dataframe\">\n",
       "  <thead>\n",
       "    <tr style=\"text-align: right;\">\n",
       "      <th></th>\n",
       "      <th>NOC</th>\n",
       "      <th>Country</th>\n",
       "      <th>Total_x</th>\n",
       "      <th>Total_y</th>\n",
       "    </tr>\n",
       "  </thead>\n",
       "  <tbody>\n",
       "    <tr>\n",
       "      <th>0</th>\n",
       "      <td>USA</td>\n",
       "      <td>United States</td>\n",
       "      <td>1052.0</td>\n",
       "      <td>1195.0</td>\n",
       "    </tr>\n",
       "    <tr>\n",
       "      <th>1</th>\n",
       "      <td>SOV</td>\n",
       "      <td>Soviet Union</td>\n",
       "      <td>584.0</td>\n",
       "      <td>627.0</td>\n",
       "    </tr>\n",
       "    <tr>\n",
       "      <th>2</th>\n",
       "      <td>UKD</td>\n",
       "      <td>United Kingdom</td>\n",
       "      <td>505.0</td>\n",
       "      <td>591.0</td>\n",
       "    </tr>\n",
       "    <tr>\n",
       "      <th>3</th>\n",
       "      <td>FRA</td>\n",
       "      <td>France</td>\n",
       "      <td>475.0</td>\n",
       "      <td>461.0</td>\n",
       "    </tr>\n",
       "  </tbody>\n",
       "</table>\n",
       "</div>"
      ],
      "text/plain": [
       "   NOC         Country  Total_x  Total_y\n",
       "0  USA   United States   1052.0   1195.0\n",
       "1  SOV    Soviet Union    584.0    627.0\n",
       "2  UKD  United Kingdom    505.0    591.0\n",
       "3  FRA          France    475.0    461.0"
      ]
     },
     "execution_count": 13,
     "metadata": {},
     "output_type": "execute_result"
    }
   ],
   "source": [
    "pd.merge(bronze, silver, on=['NOC', 'Country'])"
   ]
  },
  {
   "cell_type": "code",
   "execution_count": 14,
   "id": "c85fb3d7-23d5-4040-aa44-dc78818f18c7",
   "metadata": {},
   "outputs": [
    {
     "data": {
      "text/html": [
       "<div>\n",
       "<style scoped>\n",
       "    .dataframe tbody tr th:only-of-type {\n",
       "        vertical-align: middle;\n",
       "    }\n",
       "\n",
       "    .dataframe tbody tr th {\n",
       "        vertical-align: top;\n",
       "    }\n",
       "\n",
       "    .dataframe thead th {\n",
       "        text-align: right;\n",
       "    }\n",
       "</style>\n",
       "<table border=\"1\" class=\"dataframe\">\n",
       "  <thead>\n",
       "    <tr style=\"text-align: right;\">\n",
       "      <th></th>\n",
       "      <th>NOC</th>\n",
       "      <th>Country</th>\n",
       "      <th>Total_bronze_medals</th>\n",
       "      <th>Total_silver_medals</th>\n",
       "    </tr>\n",
       "  </thead>\n",
       "  <tbody>\n",
       "    <tr>\n",
       "      <th>0</th>\n",
       "      <td>USA</td>\n",
       "      <td>United States</td>\n",
       "      <td>1052.0</td>\n",
       "      <td>1195.0</td>\n",
       "    </tr>\n",
       "    <tr>\n",
       "      <th>1</th>\n",
       "      <td>SOV</td>\n",
       "      <td>Soviet Union</td>\n",
       "      <td>584.0</td>\n",
       "      <td>627.0</td>\n",
       "    </tr>\n",
       "    <tr>\n",
       "      <th>2</th>\n",
       "      <td>UKD</td>\n",
       "      <td>United Kingdom</td>\n",
       "      <td>505.0</td>\n",
       "      <td>591.0</td>\n",
       "    </tr>\n",
       "    <tr>\n",
       "      <th>3</th>\n",
       "      <td>FRA</td>\n",
       "      <td>France</td>\n",
       "      <td>475.0</td>\n",
       "      <td>461.0</td>\n",
       "    </tr>\n",
       "  </tbody>\n",
       "</table>\n",
       "</div>"
      ],
      "text/plain": [
       "   NOC         Country  Total_bronze_medals  Total_silver_medals\n",
       "0  USA   United States               1052.0               1195.0\n",
       "1  SOV    Soviet Union                584.0                627.0\n",
       "2  UKD  United Kingdom                505.0                591.0\n",
       "3  FRA          France                475.0                461.0"
      ]
     },
     "execution_count": 14,
     "metadata": {},
     "output_type": "execute_result"
    }
   ],
   "source": [
    "pd.merge(bronze, silver, on=['NOC', 'Country'], suffixes=['_bronze_medals','_silver_medals'])"
   ]
  },
  {
   "cell_type": "code",
   "execution_count": null,
   "id": "b18ce1c8-0b54-4fb5-aa71-0c471d4a52e2",
   "metadata": {},
   "outputs": [],
   "source": []
  }
 ],
 "metadata": {
  "kernelspec": {
   "display_name": "Python 3 (ipykernel)",
   "language": "python",
   "name": "python3"
  },
  "language_info": {
   "codemirror_mode": {
    "name": "ipython",
    "version": 3
   },
   "file_extension": ".py",
   "mimetype": "text/x-python",
   "name": "python",
   "nbconvert_exporter": "python",
   "pygments_lexer": "ipython3",
   "version": "3.11.7"
  }
 },
 "nbformat": 4,
 "nbformat_minor": 5
}
